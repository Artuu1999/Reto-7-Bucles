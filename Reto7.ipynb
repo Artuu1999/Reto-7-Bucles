{
 "cells": [
  {
   "cell_type": "code",
   "execution_count": null,
   "metadata": {},
   "outputs": [],
   "source": [
    "i = 1 \n",
    "while i <= 100:\n",
    "    print(\"El cuadrado del número \"+str(i)+\", es \"+str(i**2)+\"\")\n",
    "    i += 1"
   ]
  },
  {
   "cell_type": "code",
   "execution_count": null,
   "metadata": {},
   "outputs": [],
   "source": [
    "i = 1\n",
    "while i < 1000:\n",
    "  print(i)\n",
    "  i +=2\n",
    "\n",
    "a = 2\n",
    "while a < 1000:\n",
    "  print(a)\n",
    "  a +=2"
   ]
  },
  {
   "cell_type": "code",
   "execution_count": null,
   "metadata": {},
   "outputs": [],
   "source": [
    "i = int(input(\"Ingrese un numero natural: \"))\n",
    "while i >= 2:\n",
    " if i%2 == 0:\n",
    "     print(i)\n",
    "     i -= 2\n",
    " else:\n",
    "     print (i-1)\n",
    "     i -= 2"
   ]
  },
  {
   "cell_type": "code",
   "execution_count": 39,
   "metadata": {},
   "outputs": [
    {
     "name": "stdout",
     "output_type": "stream",
     "text": [
      "La población del país B superará a la de A en el año 2051\n"
     ]
    }
   ],
   "source": [
    "A = 25\n",
    "B = 18.9\n",
    "t = 2022\n",
    "\n",
    "while A >= B:\n",
    "      A += A* 0.02\n",
    "      B += B * 0.03\n",
    "      t += 1\n",
    "\n",
    "print(\"La población del país B superará a la de A en el año \"+str(t)+\"\")"
   ]
  },
  {
   "cell_type": "code",
   "execution_count": 54,
   "metadata": {},
   "outputs": [
    {
     "name": "stdout",
     "output_type": "stream",
     "text": [
      "El número factorial del número 5 es 120\n"
     ]
    }
   ],
   "source": [
    "a = int(input(\"Ingrese un numero natural: \"))\n",
    "n = 1\n",
    "i = 1\n",
    "while i <= a:\n",
    " n *= i\n",
    " i += 1\n",
    "print(\"El número factorial del número \"+str(a)+\" es \"+str(n)+\"\")"
   ]
  },
  {
   "cell_type": "code",
   "execution_count": 6,
   "metadata": {},
   "outputs": [
    {
     "name": "stdout",
     "output_type": "stream",
     "text": [
      "¡Adivinaste el número!\n"
     ]
    }
   ],
   "source": [
    "n = int(input(\"Ingresa el número a adivinar (1-100): \"))\n",
    "a = False\n",
    "while not a:\n",
    "    t = int(input(\"Adivina el número (1-100): \"))\n",
    "    if t < n:\n",
    "        print(\"El número es mayor\")\n",
    "    elif t > n:\n",
    "        print(\"El número es menor\")\n",
    "    else:\n",
    "        print(\"¡Adivinaste el número!\")\n",
    "        a = True"
   ]
  },
  {
   "cell_type": "code",
   "execution_count": 12,
   "metadata": {},
   "outputs": [
    {
     "name": "stdout",
     "output_type": "stream",
     "text": [
      "1\n",
      "3\n",
      "5\n",
      "9\n",
      "15\n",
      "45\n"
     ]
    }
   ],
   "source": [
    "n = int(input(\"Ingresa un número natural entre 2 y 50: \"))\n",
    "i = 1\n",
    "while i <= n:\n",
    "  if n%i == 0:\n",
    "    print (i)\n",
    "  i += 1"
   ]
  },
  {
   "cell_type": "code",
   "execution_count": 17,
   "metadata": {},
   "outputs": [
    {
     "name": "stdout",
     "output_type": "stream",
     "text": [
      "Los números primos del 1 al 100 son:\n",
      "2\n",
      "3\n",
      "5\n",
      "7\n",
      "11\n",
      "13\n",
      "17\n",
      "19\n",
      "23\n",
      "29\n",
      "31\n",
      "37\n",
      "41\n",
      "43\n",
      "47\n",
      "53\n",
      "59\n",
      "61\n",
      "67\n",
      "71\n",
      "73\n",
      "79\n",
      "83\n",
      "89\n",
      "97\n"
     ]
    }
   ],
   "source": [
    "def es_primo(n):\n",
    "    if n < 2:\n",
    "        return False\n",
    "    i = 2\n",
    "    while i < n:\n",
    "        if n % i == 0:\n",
    "            return False\n",
    "        i = i + 1\n",
    "    return True\n",
    "\n",
    "print(\"Los números primos del 1 al 100 son:\")\n",
    "n= 1\n",
    "while n <= 100:\n",
    "    if es_primo(n):\n",
    "        print(n)\n",
    "    n =n + 1"
   ]
  }
 ],
 "metadata": {
  "kernelspec": {
   "display_name": "Python 3",
   "language": "python",
   "name": "python3"
  },
  "language_info": {
   "codemirror_mode": {
    "name": "ipython",
    "version": 3
   },
   "file_extension": ".py",
   "mimetype": "text/x-python",
   "name": "python",
   "nbconvert_exporter": "python",
   "pygments_lexer": "ipython3",
   "version": "3.7.9"
  },
  "orig_nbformat": 4
 },
 "nbformat": 4,
 "nbformat_minor": 2
}
